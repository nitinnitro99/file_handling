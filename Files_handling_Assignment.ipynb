{
  "nbformat": 4,
  "nbformat_minor": 0,
  "metadata": {
    "colab": {
      "provenance": []
    },
    "kernelspec": {
      "name": "python3",
      "display_name": "Python 3"
    },
    "language_info": {
      "name": "python"
    }
  },
  "cells": [
    {
      "cell_type": "markdown",
      "source": [
        "#Files, exceptional handling, logging and memory management Assignment"
      ],
      "metadata": {
        "id": "QxjELvN5Eqw-"
      }
    },
    {
      "cell_type": "markdown",
      "source": [
        "##Theory Questions"
      ],
      "metadata": {
        "id": "gJO18NVAE2EO"
      }
    },
    {
      "cell_type": "markdown",
      "source": [
        "####Q1. What is the difference between interpreted and compiled languages?\n",
        "- Compiled Languages:\n",
        "\n",
        "Code is converted into machine language using a compiler before execution.\n",
        "Faster execution as the code is already compiled.\n",
        "Examples: C, C++.\n",
        "- Interpreted Languages:\n",
        "\n",
        "Code is executed line-by-line using an interpreter at runtime.\n",
        "Slower than compiled languages as the interpretation happens during execution.\n",
        "Examples: Python, JavaScript"
      ],
      "metadata": {
        "id": "v9extxwfE79G"
      }
    },
    {
      "cell_type": "markdown",
      "source": [],
      "metadata": {
        "id": "G5Xdty5bHoLE"
      }
    },
    {
      "cell_type": "markdown",
      "source": [
        "####Q. What is exception handling in Python?\n",
        "- Exception handling in Python is a mechanism to handle runtime errors gracefully without crashing the program. It uses try, except, else, and finally blocks to catch and respond to exceptions."
      ],
      "metadata": {
        "id": "8pPOLfFoH5Vc"
      }
    },
    {
      "cell_type": "code",
      "execution_count": null,
      "metadata": {
        "colab": {
          "base_uri": "https://localhost:8080/"
        },
        "id": "nmLhAObYEict",
        "outputId": "3a433368-e554-46bc-dde6-1564a5e4c781"
      },
      "outputs": [
        {
          "output_type": "stream",
          "name": "stdout",
          "text": [
            "Enter a number: 0\n",
            "You cannot divide by zero!\n"
          ]
        }
      ],
      "source": [
        "try:\n",
        "    num = int(input(\"Enter a number: \"))\n",
        "    print(10 / num)\n",
        "except ZeroDivisionError:\n",
        "    print(\"You cannot divide by zero!\")\n",
        "except ValueError:\n",
        "    print(\"Invalid input, please enter a number.\")\n"
      ]
    },
    {
      "cell_type": "markdown",
      "source": [
        "####Q3. What is the purpose of the finally block in exception handling?\n",
        "- The finally block is used to define code that should execute regardless of whether an exception occurred or not.\n",
        "- It is typically used for cleanup operations like closing files or releasing resources."
      ],
      "metadata": {
        "id": "4_Y4wJSikHx7"
      }
    },
    {
      "cell_type": "code",
      "source": [
        "try:\n",
        "    file = open(\"example.txt\", \"r\")\n",
        "    content = file.read()\n",
        "except FileNotFoundError:\n",
        "    print(\"File not found!\")\n",
        "finally:\n",
        "    if 'file' in locals() and file:\n",
        "        file.close()"
      ],
      "metadata": {
        "colab": {
          "base_uri": "https://localhost:8080/"
        },
        "id": "HHfxXaG9jcuc",
        "outputId": "a3eb5a9f-24b2-46f2-8012-a6a7ee05d9ca"
      },
      "execution_count": null,
      "outputs": [
        {
          "output_type": "stream",
          "name": "stdout",
          "text": [
            "File not found!\n"
          ]
        }
      ]
    },
    {
      "cell_type": "markdown",
      "source": [
        "####Q4. What is logging in Python?\n",
        "- Logging in Python is used to track events that occur while running a program.\n",
        "- It is especially helpful for debugging and monitoring applications.\n",
        "- The logging module provides functions to log messages at different severity levels: DEBUG, INFO, WARNING, ERROR, and CRITICAL."
      ],
      "metadata": {
        "id": "PGQKoIzyl0OJ"
      }
    },
    {
      "cell_type": "code",
      "source": [
        "import logging\n",
        "\n",
        "logging.basicConfig(level=logging.INFO)\n",
        "logging.info(\"This is an info message.\")\n",
        "logging.error(\"This is an error message.\")\n"
      ],
      "metadata": {
        "colab": {
          "base_uri": "https://localhost:8080/"
        },
        "id": "4c9fMTabkaHb",
        "outputId": "5c3c2680-c4a7-4848-85f7-690ad67d0169"
      },
      "execution_count": null,
      "outputs": [
        {
          "output_type": "stream",
          "name": "stderr",
          "text": [
            "ERROR:root:This is an error message.\n"
          ]
        }
      ]
    },
    {
      "cell_type": "markdown",
      "source": [
        "####Q5. What is the significance of the __del__ method in Python?\n",
        "- The __del__ method is a special method called a destructor, which is invoked when an object is about to be destroyed.\n",
        "- It is used to release resources, such as closing database connections or files."
      ],
      "metadata": {
        "id": "HutkRoU4msNh"
      }
    },
    {
      "cell_type": "code",
      "source": [
        "class Example:\n",
        "    def __del__(self):\n",
        "        print(\"Object is being deleted.\")\n",
        "\n",
        "obj = Example()\n",
        "del obj"
      ],
      "metadata": {
        "colab": {
          "base_uri": "https://localhost:8080/"
        },
        "id": "WRGl_I0CmPUx",
        "outputId": "3f589692-d164-4167-b678-28e7387c45b3"
      },
      "execution_count": null,
      "outputs": [
        {
          "output_type": "stream",
          "name": "stdout",
          "text": [
            "Object is being deleted.\n"
          ]
        }
      ]
    },
    {
      "cell_type": "markdown",
      "source": [
        "####Q6. What is the difference between import and from ... import in Python?\n",
        "- import: Imports the entire module. Access functions or variables using the module name as a prefix.\n",
        "- from ... import: Imports specific functions, classes, or variables from a module. Access directly without the module prefix.\n",
        "\n"
      ],
      "metadata": {
        "id": "H24FsQh8nN1B"
      }
    },
    {
      "cell_type": "code",
      "source": [
        "import math\n",
        "print(math.sqrt(16))"
      ],
      "metadata": {
        "colab": {
          "base_uri": "https://localhost:8080/"
        },
        "id": "W0F-kPW_nG3p",
        "outputId": "a65e7521-4515-4d77-a30d-650a86275857"
      },
      "execution_count": null,
      "outputs": [
        {
          "output_type": "stream",
          "name": "stdout",
          "text": [
            "4.0\n"
          ]
        }
      ]
    },
    {
      "cell_type": "code",
      "source": [
        "from math import sqrt\n",
        "print(sqrt(16))"
      ],
      "metadata": {
        "colab": {
          "base_uri": "https://localhost:8080/"
        },
        "id": "miGO-yy-nwxK",
        "outputId": "a72f96ea-83af-4cd9-ac72-ad8d8b263135"
      },
      "execution_count": null,
      "outputs": [
        {
          "output_type": "stream",
          "name": "stdout",
          "text": [
            "4.0\n"
          ]
        }
      ]
    },
    {
      "cell_type": "markdown",
      "source": [
        "####Q7. How can you handle multiple exceptions in Python?\n",
        "- You can handle multiple exceptions using multiple except blocks or grouping exceptions in a single block with a tuple."
      ],
      "metadata": {
        "id": "frBtcXkfn9yx"
      }
    },
    {
      "cell_type": "code",
      "source": [
        "#using multiple except blocks\n",
        "try:\n",
        "    num = int(input(\"Enter a number: \"))\n",
        "    result = 10 / num\n",
        "except ZeroDivisionError:\n",
        "    print(\"Cannot divide by zero!\")\n",
        "except ValueError:\n",
        "    print(\"Invalid input, please enter a valid number.\")\n"
      ],
      "metadata": {
        "colab": {
          "base_uri": "https://localhost:8080/"
        },
        "id": "suJNCaRenzyA",
        "outputId": "21936eeb-2403-4a8c-d9ee-7bb70b3dd92f"
      },
      "execution_count": null,
      "outputs": [
        {
          "output_type": "stream",
          "name": "stdout",
          "text": [
            "Enter a number: 0\n",
            "Cannot divide by zero!\n"
          ]
        }
      ]
    },
    {
      "cell_type": "code",
      "source": [
        "#using tuple\n",
        "try:\n",
        "    num = int(input(\"Enter a number: \"))\n",
        "    result = 10 / num\n",
        "except (ZeroDivisionError, ValueError) as e:\n",
        "    print(f\"Error occurred: {e}\")\n"
      ],
      "metadata": {
        "colab": {
          "base_uri": "https://localhost:8080/"
        },
        "id": "bNGrMELmoEjY",
        "outputId": "487310e2-9098-4346-ac36-3f5027bc3d71"
      },
      "execution_count": null,
      "outputs": [
        {
          "output_type": "stream",
          "name": "stdout",
          "text": [
            "Enter a number: 0\n",
            "Error occurred: division by zero\n"
          ]
        }
      ]
    },
    {
      "cell_type": "markdown",
      "source": [
        "####Q8. What is the purpose of the with statement when handling files in Python?\n",
        "- The with statement is used to handle files and other resources efficiently.\n",
        "- It ensures that the file is automatically closed after its block of code is executed, even if an error occurs."
      ],
      "metadata": {
        "id": "Jw1gpy84ogu4"
      }
    },
    {
      "cell_type": "code",
      "source": [
        "with open(\"example.txt\", \"w\") as file:\n",
        "    content = file.write(\"This is the content of example file\")\n",
        "    print(content)"
      ],
      "metadata": {
        "colab": {
          "base_uri": "https://localhost:8080/"
        },
        "id": "NuU-gwiGoTMx",
        "outputId": "dc25c11c-e373-4d93-adb3-28245ef1d272"
      },
      "execution_count": null,
      "outputs": [
        {
          "output_type": "stream",
          "name": "stdout",
          "text": [
            "35\n"
          ]
        }
      ]
    },
    {
      "cell_type": "markdown",
      "source": [
        "####Q9. What is the difference between multithreading and multiprocessing?\n",
        "- Multithreading:\n",
        "\n",
        "1. Allows a program to run multiple threads (smaller units of a process) concurrently within the same process.\n",
        "2. Threads share the same memory space.\n",
        "3. Useful for I/O-bound tasks (e.g., file handling, network requests).\n",
        "Example: Downloading multiple files at the same time.\n",
        "\n",
        "- Multiprocessing:\n",
        "\n",
        "1. Runs multiple processes independently, each with its own memory space.\n",
        "2. Suitable for CPU-bound tasks (e.g., data processing, complex calculations).\n",
        "Example: Processing large datasets on multiple cores."
      ],
      "metadata": {
        "id": "9wmvvNHApxGn"
      }
    },
    {
      "cell_type": "markdown",
      "source": [
        "####Q10. What are the advantages of using logging in a program?\n",
        "- Debugging: Helps identify issues in the program.\n",
        "- Monitoring: Tracks the application's behavior and performance over time.\n",
        "- Error Tracking: Logs exceptions and errors for later analysis.\n",
        "- Flexibility: Logs can be written to files, consoles, or external systems.\n",
        "- Granularity: Provides different severity levels (e.g., DEBUG, INFO, ERROR) to control logging output."
      ],
      "metadata": {
        "id": "e351gqOgqIFe"
      }
    },
    {
      "cell_type": "markdown",
      "source": [
        "####Q11. What is memory management in Python?\n",
        "- Memory management in Python involves managing the allocation and deallocation of memory during program execution.\n",
        "Python has a built-in garbage collection system that automatically reclaims unused memory.\n",
        "Key components of Python memory management:\n",
        "\n",
        "- Reference Counting: Tracks how many references an object has.\n",
        "Garbage Collection: Removes objects with zero references.\n",
        "Memory Pools: Manages memory for small objects to reduce overhead."
      ],
      "metadata": {
        "id": "wh7ilXeGqfoO"
      }
    },
    {
      "cell_type": "markdown",
      "source": [
        "####Q12. What are the basic steps involved in exception handling in Python?\n",
        "- Try Block: Encapsulate the code that might raise an exception.\n",
        "- Except Block: Handle specific exceptions when they occur.\n",
        "- Else Block: Execute code if no exceptions occur (optional).\n",
        "- Finally Block: Execute cleanup code, regardless of what happens (optional)."
      ],
      "metadata": {
        "id": "fhAueOGwrOhO"
      }
    },
    {
      "cell_type": "code",
      "source": [
        "try:\n",
        "    x = int(input(\"Enter a number: \"))\n",
        "    result = 10 / x\n",
        "except ZeroDivisionError:\n",
        "    print(\"Cannot divide by zero!\")\n",
        "else:\n",
        "    print(f\"Result: {result}\")\n",
        "finally:\n",
        "    print(\"Execution complete.\")\n"
      ],
      "metadata": {
        "colab": {
          "base_uri": "https://localhost:8080/"
        },
        "id": "SfDN5kHwor1Y",
        "outputId": "eabd08ba-984d-4354-822c-470b3f747830"
      },
      "execution_count": null,
      "outputs": [
        {
          "output_type": "stream",
          "name": "stdout",
          "text": [
            "Enter a number: 2\n",
            "Result: 5.0\n",
            "Execution complete.\n"
          ]
        }
      ]
    },
    {
      "cell_type": "markdown",
      "source": [
        "####Q13. Why is memory management important in Python?\n",
        "- Efficiency: Optimizes the use of system resources.\n",
        "- Prevents Memory Leaks: Automatically reclaims unused memory, preventing memory from being occupied indefinitely.\n",
        "- Improves Performance: Ensures smooth execution of programs.\n",
        "- Simplifies Development: Developers don’t need to manually allocate or free memory."
      ],
      "metadata": {
        "id": "WLGP_BDxrxJ2"
      }
    },
    {
      "cell_type": "markdown",
      "source": [
        "####Q14. What is the role of try and except in exception handling?\n",
        "- try: Contains the code that might raise an exception.\n",
        "- except: Defines how to handle specific exceptions when they occur."
      ],
      "metadata": {
        "id": "KVJBv0fEsLxN"
      }
    },
    {
      "cell_type": "code",
      "source": [
        "try:\n",
        "    num = int(input(\"Enter a number: \"))\n",
        "    result = 10 / num\n",
        "except ZeroDivisionError:\n",
        "    print(\"Cannot divide by zero!\")\n",
        "except ValueError:\n",
        "    print(\"Invalid input! Enter a valid number.\")\n"
      ],
      "metadata": {
        "colab": {
          "base_uri": "https://localhost:8080/"
        },
        "id": "AGWzXhuXrh6-",
        "outputId": "d92b5fb4-2322-4182-ec43-b90524052948"
      },
      "execution_count": null,
      "outputs": [
        {
          "output_type": "stream",
          "name": "stdout",
          "text": [
            "Enter a number: 0\n",
            "Cannot divide by zero!\n"
          ]
        }
      ]
    },
    {
      "cell_type": "markdown",
      "source": [
        "####Q15. How does Python's garbage collection system work?\n",
        "- Reference Counting:\n",
        "\n",
        "Every object has a reference count.\n",
        "When the reference count drops to zero, the object is eligible for garbage collection.\n",
        "- Cyclic Garbage Collection:\n",
        "\n",
        "Detects and collects objects involved in reference cycles (e.g., objects referencing each other).\n",
        "Uses Python’s gc module to manage these objects."
      ],
      "metadata": {
        "id": "ZceJ_KHksbet"
      }
    },
    {
      "cell_type": "code",
      "source": [
        "import gc\n",
        "gc.collect()"
      ],
      "metadata": {
        "colab": {
          "base_uri": "https://localhost:8080/"
        },
        "id": "TxdcGGYMsTa-",
        "outputId": "897eef62-9c8f-4bfd-c272-41d024921230"
      },
      "execution_count": null,
      "outputs": [
        {
          "output_type": "execute_result",
          "data": {
            "text/plain": [
              "0"
            ]
          },
          "metadata": {},
          "execution_count": 17
        }
      ]
    },
    {
      "cell_type": "markdown",
      "source": [
        "####Q16. What is the purpose of the else block in exception handling?\n",
        "- The else block is executed only if no exceptions occur in the try block.\n",
        "It is useful for code that should run after the try block but only if it executes successfully."
      ],
      "metadata": {
        "id": "8H9WH3QZssoF"
      }
    },
    {
      "cell_type": "code",
      "source": [
        "try:\n",
        "    num = int(input(\"Enter a number: \"))\n",
        "    result = 10 / num\n",
        "except ZeroDivisionError:\n",
        "    print(\"Cannot divide by zero!\")\n",
        "else:\n",
        "    print(f\"Division successful, result: {result}\")\n"
      ],
      "metadata": {
        "colab": {
          "base_uri": "https://localhost:8080/"
        },
        "id": "_6eCqKTdsjDF",
        "outputId": "48bc99e9-a0c7-42f9-e5c6-b08610a3e364"
      },
      "execution_count": null,
      "outputs": [
        {
          "output_type": "stream",
          "name": "stdout",
          "text": [
            "Enter a number: 43\n",
            "Division successful, result: 0.23255813953488372\n"
          ]
        }
      ]
    },
    {
      "cell_type": "markdown",
      "source": [
        "####Q17. What are the common logging levels in Python?\n",
        "- The logging module in Python provides different levels of severity for log messages:\n",
        "\n",
        "1. DEBUG: Detailed information for diagnosing problems.\n",
        "Example: logging.debug(\"Debugging information\")\n",
        "\n",
        "2. INFO: General operational messages that confirm the program is working as expected.\n",
        "Example: logging.info(\"Program started successfully\")\n",
        "\n",
        "3. WARNING: Indicates potential issues or unexpected situations, but the program continues to run.\n",
        "Example: logging.warning(\"Disk space running low\")\n",
        "\n",
        "4. ERROR: A serious issue due to which part of the program cannot function.\n",
        "Example: logging.error(\"File not found\")\n",
        "\n",
        "5. CRITICAL: A very serious issue that might prevent the entire program from continuing.\n",
        "Example: logging.critical(\"System crash!\")"
      ],
      "metadata": {
        "id": "m4qee8XLt4AE"
      }
    },
    {
      "cell_type": "markdown",
      "source": [
        "####Q18. What is the difference between os.fork() and multiprocessing in Python?\n",
        "- os.fork():\n",
        "\n",
        "1. Creates a new child process by duplicating the current process.\n",
        "2. Available only on Unix-like systems (not on Windows).\n",
        "3. Low-level and requires manual management of process behavior.\n",
        "- multiprocessing:\n",
        "\n",
        "1. High-level library for creating and managing processes in a cross-platform manner.\n",
        "2. Provides easy-to-use interfaces and handles inter-process communication automatically."
      ],
      "metadata": {
        "id": "miyknPpeuUrM"
      }
    },
    {
      "cell_type": "markdown",
      "source": [
        "####Q19. What is the importance of closing a file in Python?\n",
        "- Releases Resources: Ensures that file descriptors and system resources are freed.\n",
        "- Prevents Data Loss: Flushes the file buffer, saving all changes made to the file.\n",
        "- Avoids Errors: Prevents potential file corruption or access issues."
      ],
      "metadata": {
        "id": "xpfos9pUuzoU"
      }
    },
    {
      "cell_type": "code",
      "source": [
        "file = open(\"example.txt\", \"w\")\n",
        "file.write(\"Hello, world!\")\n",
        "file.close()\n"
      ],
      "metadata": {
        "id": "4PYckopnsy-9"
      },
      "execution_count": null,
      "outputs": []
    },
    {
      "cell_type": "markdown",
      "source": [
        "####Q20. What is the difference between file.read() and file.readline() in Python?\n",
        "- file.read():\n",
        "\n",
        "Reads the entire file or a specified number of characters as a single string.\n",
        "- file.readline():\n",
        "\n",
        "Reads a single line at a time.\n"
      ],
      "metadata": {
        "id": "PFU4pqCgvJ2j"
      }
    },
    {
      "cell_type": "code",
      "source": [
        "#file.read()\n",
        "with open(\"example.txt\", \"r\") as file:\n",
        "    content = file.read()\n",
        "    print(content)"
      ],
      "metadata": {
        "colab": {
          "base_uri": "https://localhost:8080/"
        },
        "id": "ZV1wENh4vEps",
        "outputId": "eb7f84d2-3795-46ff-bc1b-ce22b624a9d5"
      },
      "execution_count": null,
      "outputs": [
        {
          "output_type": "stream",
          "name": "stdout",
          "text": [
            "Hello, world!\n"
          ]
        }
      ]
    },
    {
      "cell_type": "code",
      "source": [
        "#file.readline()\n",
        "\n",
        "with open(\"example.txt\", \"r\") as file:\n",
        "    line = file.readline()\n",
        "    print(line)\n"
      ],
      "metadata": {
        "colab": {
          "base_uri": "https://localhost:8080/"
        },
        "id": "txwhSWFQvbiT",
        "outputId": "2525a655-11e1-4647-efa1-63e1b55965f1"
      },
      "execution_count": null,
      "outputs": [
        {
          "output_type": "stream",
          "name": "stdout",
          "text": [
            "Hello, world!\n"
          ]
        }
      ]
    },
    {
      "cell_type": "markdown",
      "source": [
        "####Q21. What is the logging module in Python used for?\n",
        "- The logging module in Python is used to:\n",
        "\n",
        "1. Track events during program execution.\n",
        "2. Debug and analyze issues.\n",
        "3. Record messages with various severity levels (DEBUG, INFO, ERROR, etc.).\n",
        "4. Write logs to different destinations (console, files, or external systems)."
      ],
      "metadata": {
        "id": "7jVjGECKv39s"
      }
    },
    {
      "cell_type": "markdown",
      "source": [
        "####Q22. What is the os module in Python used for in file handling?\n",
        "- The os module provides functionality for interacting with the operating system, including file handling."
      ],
      "metadata": {
        "id": "4d_I_K_IXLwx"
      }
    },
    {
      "cell_type": "code",
      "source": [
        "#Create, delete, or rename files:\n",
        "os.rename(\"old_name.txt\", \"new_name.txt\")\n",
        "\n",
        "#Check file existence:\n",
        "os.path.exists(\"example.txt\")\n",
        "\n",
        "#Get file information:\n",
        "os.stat(\"example.txt\")\n",
        "\n",
        "#Change directories:\n",
        "os.chdir(\"/path/to/directory\")\n"
      ],
      "metadata": {
        "id": "gk-HXpYgvmDj"
      },
      "execution_count": null,
      "outputs": []
    },
    {
      "cell_type": "markdown",
      "source": [
        "####Q23. What are the challenges associated with memory management in Python?\n",
        "- Reference Cycles:\n",
        "\n",
        "Objects referencing each other can create cycles that are harder for the garbage collector to clean up.\n",
        "- Memory Leaks:\n",
        "\n",
        "Caused by holding references to objects that are no longer needed.\n",
        "- Global Interpreter Lock (GIL):\n",
        "\n",
        "Limits memory performance in multithreading.\n",
        "- High Memory Usage:\n",
        "\n",
        "Python's dynamic typing and object overhead result in higher memory consumption compared to lower-level languages like C."
      ],
      "metadata": {
        "id": "GxVgulkdXoVp"
      }
    },
    {
      "cell_type": "markdown",
      "source": [
        "####Q24. How do you raise an exception manually in Python?\n",
        "- You can raise an exception manually using the raise keyword.\n"
      ],
      "metadata": {
        "id": "2A5sAlhtX4_I"
      }
    },
    {
      "cell_type": "code",
      "source": [
        "x = 5\n",
        "if x < 0:\n",
        "  raise ValueError(\"x\")\n"
      ],
      "metadata": {
        "id": "qhwodTGAYBBg"
      },
      "execution_count": null,
      "outputs": []
    },
    {
      "cell_type": "markdown",
      "source": [
        "####Q25. Why is it important to use multithreading in certain applications?\n",
        "- Concurrency: Allows multiple tasks to run concurrently within the same program.\n",
        "- Improved Performance: Useful for I/O-bound tasks where threads can execute while waiting for resources.\n",
        "- Efficient Resource Utilization: Threads share the same memory space, reducing overhead compared to processes.\n",
        "- Responsiveness: Keeps applications responsive, especially in GUI-based programs."
      ],
      "metadata": {
        "id": "0tRWZAIIYgMA"
      }
    },
    {
      "cell_type": "code",
      "source": [],
      "metadata": {
        "id": "SFNZ8gNWYDDB"
      },
      "execution_count": null,
      "outputs": []
    },
    {
      "cell_type": "markdown",
      "source": [
        "#Practical Questions"
      ],
      "metadata": {
        "id": "D49zjmLfau6v"
      }
    },
    {
      "cell_type": "markdown",
      "source": [
        "####Q1. How can you open a file for writing in Python and write a string to it."
      ],
      "metadata": {
        "id": "UNvVesK9a0FW"
      }
    },
    {
      "cell_type": "code",
      "source": [
        "file = open(\"Nitin.txt\", 'w')\n",
        "file.write(\"This is Nitin\\n\")\n",
        "file.write(\"I am 24\\n\")\n",
        "file.write(\"I love books\")\n",
        "file.close()"
      ],
      "metadata": {
        "id": "MoQPG2Zja1W3"
      },
      "execution_count": 6,
      "outputs": []
    },
    {
      "cell_type": "markdown",
      "source": [
        "####Q2. Write a Python program to read the contents of a file and print each line."
      ],
      "metadata": {
        "id": "V69nhMBVb3NW"
      }
    },
    {
      "cell_type": "code",
      "source": [
        "with open(\"Nitin.txt\", 'r') as file:\n",
        "  for i in file:\n",
        "    print(i)"
      ],
      "metadata": {
        "colab": {
          "base_uri": "https://localhost:8080/"
        },
        "id": "JHs9k8xgbFR3",
        "outputId": "671b9274-fa4c-465c-c72f-abb4c90f4afc"
      },
      "execution_count": null,
      "outputs": [
        {
          "output_type": "stream",
          "name": "stdout",
          "text": [
            "This is Nitin\n",
            "\n",
            "I am 24\n",
            "\n",
            "I love books\n"
          ]
        }
      ]
    },
    {
      "cell_type": "markdown",
      "source": [
        "####Q3. How would you handle a case where the file doesn’t exist while trying to open it for reading?"
      ],
      "metadata": {
        "id": "kyqDa8dCgJnE"
      }
    },
    {
      "cell_type": "code",
      "source": [
        "try:\n",
        "   with open(\"school_names\", 'r') as file:\n",
        "    file.read()\n",
        "except FileNotFoundError:\n",
        "    print(\"File not found\")"
      ],
      "metadata": {
        "colab": {
          "base_uri": "https://localhost:8080/"
        },
        "id": "jZalH4D1bd6P",
        "outputId": "db2d117c-6329-4730-aa27-8b4a9ec177c2"
      },
      "execution_count": null,
      "outputs": [
        {
          "output_type": "stream",
          "name": "stdout",
          "text": [
            "File not found\n"
          ]
        }
      ]
    },
    {
      "cell_type": "markdown",
      "source": [
        "####Q4. Write a Python script that reads from one file and writes its content to another file."
      ],
      "metadata": {
        "id": "b_wGy4iRhqWE"
      }
    },
    {
      "cell_type": "code",
      "source": [
        "try:\n",
        "  with open(\"source_file.txt\", 'w') as file:\n",
        "    file.write(\"This is Source file made by Nitin\")\n",
        "\n",
        "  with open('source_file.txt', 'r') as source_file:\n",
        "    content = source_file.read()\n",
        "\n",
        "  with open('destination_file.txt', 'w') as destination_file:\n",
        "    destination_file.write(content)\n",
        "    print(\"Content copied from source to destination.\")\n",
        "except FileNotFoundError:\n",
        "    print(\"File not found\")\n"
      ],
      "metadata": {
        "colab": {
          "base_uri": "https://localhost:8080/"
        },
        "id": "itUYAikJfq9F",
        "outputId": "7400310e-4114-4d9c-83bc-f0f63fafae6d"
      },
      "execution_count": null,
      "outputs": [
        {
          "output_type": "stream",
          "name": "stdout",
          "text": [
            "Content copied from source to destination.\n"
          ]
        }
      ]
    },
    {
      "cell_type": "markdown",
      "source": [
        "####Q5. How would you catch and handle a division by zero error in Python?\n"
      ],
      "metadata": {
        "id": "oR86lB0IksGz"
      }
    },
    {
      "cell_type": "code",
      "source": [
        "\n",
        "nominator = int(input(\"Enter a number: \"))\n",
        "denominator = int(input(\"Enter another number: \"))\n",
        "\n",
        "try:\n",
        "    result = nominator / denominator\n",
        "except ZeroDivisionError:\n",
        "    print(\"Cannot divide by zero!\")\n",
        "else:\n",
        "    print(f\"Result: {result}\")\n"
      ],
      "metadata": {
        "colab": {
          "base_uri": "https://localhost:8080/"
        },
        "id": "D68F7D1giSEd",
        "outputId": "4e8f8dba-0973-4296-e889-552553a34c54"
      },
      "execution_count": null,
      "outputs": [
        {
          "output_type": "stream",
          "name": "stdout",
          "text": [
            "Enter a number: 20\n",
            "Enter another number: 0\n",
            "Cannot divide by zero!\n"
          ]
        }
      ]
    },
    {
      "cell_type": "markdown",
      "source": [
        "####Q6. Write a Python program that logs an error message to a log file when a division by zero exception occurs."
      ],
      "metadata": {
        "id": "BI1TNCf3QawI"
      }
    },
    {
      "cell_type": "code",
      "source": [
        "import logging\n",
        "\n",
        "logging.basicConfig(filename=\"error.log\", level=logging.ERROR, format=\"%(asctime)s - %(levelname)s - %(message)s\")\n",
        "\n",
        "try:\n",
        "    numerator = int(input(\"Enter numerator: \"))\n",
        "    denominator = int(input(\"Enter denominator: \"))\n",
        "    result = numerator / denominator\n",
        "    print(f\"Result: {result}\")\n",
        "except ZeroDivisionError:\n",
        "    logging.error(\"Division by zero error occurred.\")\n",
        "    print(\"Error: Cannot divide by zero!\")\n"
      ],
      "metadata": {
        "id": "86XTUz7Mkd1F",
        "colab": {
          "base_uri": "https://localhost:8080/"
        },
        "outputId": "20ed0873-807a-40a6-add2-f678e7cc5f94"
      },
      "execution_count": 2,
      "outputs": [
        {
          "name": "stdout",
          "output_type": "stream",
          "text": [
            "Enter numerator: 10\n",
            "Enter denominator: 0\n"
          ]
        },
        {
          "output_type": "stream",
          "name": "stderr",
          "text": [
            "ERROR:root:Division by zero error occurred.\n"
          ]
        },
        {
          "output_type": "stream",
          "name": "stdout",
          "text": [
            "Error: Cannot divide by zero!\n"
          ]
        }
      ]
    },
    {
      "cell_type": "markdown",
      "source": [
        "####Q7. How do you log information at different levels (INFO, ERROR, WARNING) in Python using the logging module?\n"
      ],
      "metadata": {
        "id": "xIHwT0dbVH5F"
      }
    },
    {
      "cell_type": "code",
      "source": [
        "import logging\n",
        "\n",
        "logging.basicConfig(level=logging.DEBUG, format=\"%(levelname)s: %(message)s\")\n",
        "\n",
        "logging.debug(\"This is a debug message\")\n",
        "logging.info(\"This is an info message\")\n",
        "logging.warning(\"This is a warning message\")\n",
        "logging.error(\"This is an error message\")\n",
        "logging.critical(\"This is a critical message\")\n"
      ],
      "metadata": {
        "colab": {
          "base_uri": "https://localhost:8080/"
        },
        "id": "asceWhYkQ6Vg",
        "outputId": "a2cd45c7-32c6-43ea-8ccf-81a0f97cdcb5"
      },
      "execution_count": 3,
      "outputs": [
        {
          "output_type": "stream",
          "name": "stderr",
          "text": [
            "WARNING:root:This is a warning message\n",
            "ERROR:root:This is an error message\n",
            "CRITICAL:root:This is a critical message\n"
          ]
        }
      ]
    },
    {
      "cell_type": "markdown",
      "source": [
        "####Q8. Write a program to handle a file opening error using exception handling.\n"
      ],
      "metadata": {
        "id": "Loj0Xt6xVcUd"
      }
    },
    {
      "cell_type": "code",
      "source": [
        "try:\n",
        "    with open(\"nonexistent_file.txt\", \"r\") as file:\n",
        "        content = file.read()\n",
        "        print(content)\n",
        "except FileNotFoundError:\n",
        "    print(\"Error: File not found. Please check the file name or path.\")\n"
      ],
      "metadata": {
        "colab": {
          "base_uri": "https://localhost:8080/"
        },
        "id": "vVcNK_4cVTb3",
        "outputId": "593efcde-c6f2-49f5-aafe-bf1ef79cffac"
      },
      "execution_count": 4,
      "outputs": [
        {
          "output_type": "stream",
          "name": "stdout",
          "text": [
            "Error: File not found. Please check the file name or path.\n"
          ]
        }
      ]
    },
    {
      "cell_type": "markdown",
      "source": [
        "####Q9. How can you read a file line by line and store its content in a list in Python?"
      ],
      "metadata": {
        "id": "QSQiizN4Vq6t"
      }
    },
    {
      "cell_type": "code",
      "source": [
        "# Open the file and read lines into a list\n",
        "with open(\"Nitin.txt\", \"r\") as file:\n",
        "    lines = [line.strip() for line in file]\n",
        "    print(lines)\n"
      ],
      "metadata": {
        "colab": {
          "base_uri": "https://localhost:8080/"
        },
        "id": "cl27kHnoVipV",
        "outputId": "8e51595a-9349-4dd4-fc05-4f646e6bf89b"
      },
      "execution_count": 7,
      "outputs": [
        {
          "output_type": "stream",
          "name": "stdout",
          "text": [
            "['This is Nitin', 'I am 24', 'I love books']\n"
          ]
        }
      ]
    },
    {
      "cell_type": "markdown",
      "source": [
        "####Q10. How can you append data to an existing file in Python?\n",
        "\n"
      ],
      "metadata": {
        "id": "E5K-VbOoeVPc"
      }
    },
    {
      "cell_type": "code",
      "source": [
        "with open(\"Nitin.txt\", 'a') as file:\n",
        "  file.write(\"\\nI love playing video games\")\n",
        "\n",
        "with open(\"Nitin.txt\", 'r') as file:\n",
        "  for i in file:\n",
        "    print(i)"
      ],
      "metadata": {
        "colab": {
          "base_uri": "https://localhost:8080/"
        },
        "id": "9mdDG3DLd2d7",
        "outputId": "9d555c7c-1199-49ed-9052-2c30e9928a9a"
      },
      "execution_count": 14,
      "outputs": [
        {
          "output_type": "stream",
          "name": "stdout",
          "text": [
            "This is Nitin\n",
            "\n",
            "I am 24\n",
            "\n",
            "I love booksI love playing video gamesI love playing video games\n",
            "\n",
            " I love playing video games\n",
            "\n",
            "|I love playing video games\n",
            "\n",
            "I love playing video games\n",
            "\n",
            "I love playing video games\n"
          ]
        }
      ]
    },
    {
      "cell_type": "markdown",
      "source": [
        "####Q11. Write a Python program that uses a try-except block to handle an error when attempting to access a dictionary key that doesn’t exist.\n"
      ],
      "metadata": {
        "id": "DRFKOQ63fLIy"
      }
    },
    {
      "cell_type": "code",
      "source": [
        "try:\n",
        "  list1 = {\"Name\": \"Nitin\"}\n",
        "  print(list1[\"Age\"])\n",
        "except KeyError:\n",
        "  print(\"Key not found\")"
      ],
      "metadata": {
        "colab": {
          "base_uri": "https://localhost:8080/"
        },
        "id": "h8czA3QjeuRy",
        "outputId": "055f929e-b86f-4f0a-c8a3-6c9caf877ff9"
      },
      "execution_count": 16,
      "outputs": [
        {
          "output_type": "stream",
          "name": "stdout",
          "text": [
            "Key not found\n"
          ]
        }
      ]
    },
    {
      "cell_type": "markdown",
      "source": [
        "####Q12. Write a program that demonstrates using multiple except blocks to handle different types of exceptions.\n"
      ],
      "metadata": {
        "id": "n8DzhXj3kQun"
      }
    },
    {
      "cell_type": "code",
      "source": [
        "try:\n",
        "    num = int(input(\"Enter a number: \"))\n",
        "    result = 10 / num\n",
        "    print(f\"Result: {result}\")\n",
        "except ZeroDivisionError:\n",
        "    print(\"Error: Division by zero is not allowed!\")\n",
        "except ValueError:\n",
        "    print(\"Error: Invalid input! Please enter a number.\")\n",
        "except Exception as e:\n",
        "    print(f\"An unexpected error occurred: {e}\")\n"
      ],
      "metadata": {
        "colab": {
          "base_uri": "https://localhost:8080/"
        },
        "id": "LUjnOERIfp0Z",
        "outputId": "6e0beb1a-8a5c-473b-9458-67ae9fa57096"
      },
      "execution_count": 22,
      "outputs": [
        {
          "output_type": "stream",
          "name": "stdout",
          "text": [
            "Enter a number: s\n",
            "Error: Invalid input! Please enter a number.\n"
          ]
        }
      ]
    },
    {
      "cell_type": "markdown",
      "source": [
        "####Q13. How would you check if a file exists before attempting to read it in Python?\n"
      ],
      "metadata": {
        "id": "qdrRKaN8kWTv"
      }
    },
    {
      "cell_type": "code",
      "source": [
        "import os\n",
        "\n",
        "file_path = \"Nitin.txt\"\n",
        "\n",
        "if os.path.exists(file_path):\n",
        "    with open(file_path, \"r\") as file:\n",
        "        content = file.read()\n",
        "        print(content)\n",
        "else:\n",
        "    print(\"Error: File does not exist.\")\n"
      ],
      "metadata": {
        "colab": {
          "base_uri": "https://localhost:8080/"
        },
        "id": "sd9_bKQ0jwp5",
        "outputId": "e679e3ad-fbfd-4c52-b622-3ee3b6ae46da"
      },
      "execution_count": 24,
      "outputs": [
        {
          "output_type": "stream",
          "name": "stdout",
          "text": [
            "This is Nitin\n",
            "I am 24\n",
            "I love booksI love playing video gamesI love playing video games\n",
            " I love playing video games\n",
            "|I love playing video games\n",
            "I love playing video games\n",
            "I love playing video games\n"
          ]
        }
      ]
    },
    {
      "cell_type": "markdown",
      "source": [
        "####Q14. Write a program that uses the logging module to log both informational and error messages."
      ],
      "metadata": {
        "id": "Jrt9kJZOkpXn"
      }
    },
    {
      "cell_type": "code",
      "source": [
        "import logging\n",
        "\n",
        "logging.basicConfig(filename=\"error.log\", level=logging.DEBUG, format=\"%(asctime)s - %(levelname)s - %(message)s\")\n",
        "\n",
        "try:\n",
        "  logging.info(\"Program started\")\n",
        "  result = 10 / 2\n",
        "  print(f'Result : {result}')\n",
        "  logging.info(\"Program Completed Successfully\")\n",
        "except ZeroDivisionError:\n",
        "  logging.error(\"Division by zero error occurred\")\n",
        "except ValueError:\n",
        "  logging.error(\"Invalid input\")\n"
      ],
      "metadata": {
        "colab": {
          "base_uri": "https://localhost:8080/"
        },
        "id": "4uQXR3SEkhNX",
        "outputId": "9f666f25-fc61-4ece-e70a-b97421301ad7"
      },
      "execution_count": 27,
      "outputs": [
        {
          "output_type": "stream",
          "name": "stdout",
          "text": [
            "Result : 5.0\n"
          ]
        }
      ]
    },
    {
      "cell_type": "markdown",
      "source": [
        "####Q15. Write a Python program that prints the content of a file and handles the case when the file is empty.\n"
      ],
      "metadata": {
        "id": "kFR7hLYMmkR-"
      }
    },
    {
      "cell_type": "code",
      "source": [
        "file_path = \"test.txt\"\n",
        "\n",
        "try:\n",
        "    with open(file_path, \"r\") as file:\n",
        "        content = file.read()\n",
        "        if content.strip():\n",
        "            print(content)\n",
        "        else:\n",
        "            print(\"The file is empty.\")\n",
        "except FileNotFoundError:\n",
        "    print(\"Error: File does not exist.\")\n"
      ],
      "metadata": {
        "colab": {
          "base_uri": "https://localhost:8080/"
        },
        "id": "jHVCU0w1mF_X",
        "outputId": "4c24d716-4ed1-4033-ad0f-f71bc74465ff"
      },
      "execution_count": 28,
      "outputs": [
        {
          "output_type": "stream",
          "name": "stdout",
          "text": [
            "Error: File does not exist.\n"
          ]
        }
      ]
    },
    {
      "cell_type": "markdown",
      "source": [
        "####Q16. Demonstrate how to use memory profiling to check the memory usage of a small program.\n",
        "\n",
        "---\n",
        "\n"
      ],
      "metadata": {
        "id": "FGjpFy11nEPO"
      }
    },
    {
      "cell_type": "code",
      "source": [
        "#no idea"
      ],
      "metadata": {
        "id": "f6Zx7Lr6m5q3"
      },
      "execution_count": 30,
      "outputs": []
    },
    {
      "cell_type": "markdown",
      "source": [
        "####Q17. Write a Python program to create and write a list of numbers to a file, one number per line.\n"
      ],
      "metadata": {
        "id": "PmjdPj6Tnq4O"
      }
    },
    {
      "cell_type": "code",
      "source": [
        "numbers = [1, 2, 3, 4, 5]\n",
        "\n",
        "with open(\"numbers.txt\", \"w\") as file:\n",
        "    for num in numbers:\n",
        "        file.write(f\"{num}\\n\")\n"
      ],
      "metadata": {
        "id": "vg4FrffxnefO"
      },
      "execution_count": 32,
      "outputs": []
    },
    {
      "cell_type": "markdown",
      "source": [
        "####Q18. How would you implement a basic logging setup that logs to a file with rotation after 1MB?"
      ],
      "metadata": {
        "id": "NgCJVco4qZjd"
      }
    },
    {
      "cell_type": "code",
      "source": [
        "import logging\n",
        "from logging.handlers import RotatingFileHandler\n",
        "\n",
        "handler = RotatingFileHandler(\"app.log\", maxBytes=1_000_000, backupCount=3)\n",
        "logging.basicConfig(handlers=[handler], level=logging.DEBUG, format=\"%(asctime)s - %(levelname)s - %(message)s\")\n",
        "\n",
        "logging.info(\"This is an informational message.\")\n",
        "logging.error(\"This is an error message.\")\n"
      ],
      "metadata": {
        "colab": {
          "base_uri": "https://localhost:8080/"
        },
        "id": "JVbBEdzyqDI1",
        "outputId": "d7b8803e-e0d4-4c2e-8025-f213086197ec"
      },
      "execution_count": 34,
      "outputs": [
        {
          "output_type": "stream",
          "name": "stderr",
          "text": [
            "ERROR:root:This is an error message.\n"
          ]
        }
      ]
    },
    {
      "cell_type": "markdown",
      "source": [
        "####Q19. Write a program that handles both IndexError and KeyError using a try-except block."
      ],
      "metadata": {
        "id": "5YnYYpEGrKYt"
      }
    },
    {
      "cell_type": "code",
      "source": [
        "try:\n",
        "    my_list = [1, 2, 3]\n",
        "    print(my_list[5])\n",
        "    my_dict = {\"name\": \"Nitin\"}\n",
        "    print(my_dict[\"age\"])\n",
        "except IndexError:\n",
        "    print(\"Error: Index out of range in the list.\")\n",
        "except KeyError:\n",
        "    print(\"Error: Key not found in the dictionary.\")\n"
      ],
      "metadata": {
        "colab": {
          "base_uri": "https://localhost:8080/"
        },
        "id": "HU4o1Dl6qsJc",
        "outputId": "b7b6b7e3-add4-4532-b453-cd093ec83406"
      },
      "execution_count": 35,
      "outputs": [
        {
          "output_type": "stream",
          "name": "stdout",
          "text": [
            "Error: Index out of range in the list.\n"
          ]
        }
      ]
    },
    {
      "cell_type": "markdown",
      "source": [
        "####Q20. How would you open a file and read its contents using a context manager in Python?\n"
      ],
      "metadata": {
        "id": "S5JTox96reWs"
      }
    },
    {
      "cell_type": "code",
      "source": [
        "with open(\"Nitin.txt\", \"r\") as file:\n",
        "  content = file.read()\n",
        "  print(content)\n"
      ],
      "metadata": {
        "colab": {
          "base_uri": "https://localhost:8080/"
        },
        "id": "oRG7-cRpraHl",
        "outputId": "cd146e33-6e70-4347-c9b4-3187db43f81e"
      },
      "execution_count": 38,
      "outputs": [
        {
          "output_type": "stream",
          "name": "stdout",
          "text": [
            "This is Nitin\n",
            "I am 24\n",
            "I love booksI love playing video gamesI love playing video games\n",
            " I love playing video games\n",
            "|I love playing video games\n",
            "I love playing video games\n",
            "I love playing video games\n"
          ]
        }
      ]
    },
    {
      "cell_type": "markdown",
      "source": [
        "####Q21. Write a Python program that reads a file and prints the number of occurrences of a specific word.\n"
      ],
      "metadata": {
        "id": "UligIs4Rr3d1"
      }
    },
    {
      "cell_type": "code",
      "source": [
        "word_to_count = \"Python\"\n",
        "\n",
        "with open(\"example.txt\", \"r\") as file:\n",
        "    content = file.read()\n",
        "    word_count = content.lower().split().count(word_to_count.lower())\n",
        "    print(f\"The word '{word_to_count}' occurs {word_count} times in the file.\")\n"
      ],
      "metadata": {
        "id": "CASR24_3rnJE"
      },
      "execution_count": null,
      "outputs": []
    },
    {
      "cell_type": "markdown",
      "source": [
        "####Q22. How can you check if a file is empty before attempting to read its contents?\n"
      ],
      "metadata": {
        "id": "IKzrInV8sMZk"
      }
    },
    {
      "cell_type": "code",
      "source": [
        "import os\n",
        "\n",
        "file_path = \"example.txt\"\n",
        "\n",
        "if os.path.exists(file_path) and os.path.getsize(file_path) > 0:\n",
        "    with open(file_path, \"r\") as file:\n",
        "        content = file.read()\n",
        "        print(content)\n",
        "else:\n",
        "    print(\"The file is either empty or does not exist.\")\n"
      ],
      "metadata": {
        "colab": {
          "base_uri": "https://localhost:8080/"
        },
        "id": "Rf9HR4Vwtnkb",
        "outputId": "a07476f9-10d5-43d5-f1d6-1213c7ebfbba"
      },
      "execution_count": 39,
      "outputs": [
        {
          "output_type": "stream",
          "name": "stdout",
          "text": [
            "The file is either empty or does not exist.\n"
          ]
        }
      ]
    },
    {
      "cell_type": "markdown",
      "source": [
        "####Q23. Write a Python program that writes to a log file when an error occurs during file handling.\n"
      ],
      "metadata": {
        "id": "6f-9Ppm_3jFB"
      }
    },
    {
      "cell_type": "code",
      "source": [
        "import logging\n",
        "\n",
        "logging.basicConfig(filename=\"file_errors.log\", level=logging.ERROR, format=\"%(asctime)s - %(levelname)s - %(message)s\")\n",
        "\n",
        "try:\n",
        "    with open(\"nonexistent_file.txt\", \"r\") as file:\n",
        "        content = file.read()\n",
        "except FileNotFoundError:\n",
        "    logging.error(\"FileNotFoundError: The file does not exist.\")\n",
        "    print(\"Error: The file does not exist.\")\n",
        "except Exception as e:\n",
        "    logging.error(f\"An unexpected error occurred: {e}\")\n",
        "    print(\"Error: An unexpected error occurred.\")\n"
      ],
      "metadata": {
        "colab": {
          "base_uri": "https://localhost:8080/"
        },
        "id": "2iDrGK6Utogj",
        "outputId": "bc52362c-022d-420f-9c62-34be205b0fdf"
      },
      "execution_count": 40,
      "outputs": [
        {
          "output_type": "stream",
          "name": "stderr",
          "text": [
            "ERROR:root:FileNotFoundError: The file does not exist.\n"
          ]
        },
        {
          "output_type": "stream",
          "name": "stdout",
          "text": [
            "Error: The file does not exist.\n"
          ]
        }
      ]
    },
    {
      "cell_type": "code",
      "source": [],
      "metadata": {
        "id": "FCaLz0dC3nYf"
      },
      "execution_count": null,
      "outputs": []
    }
  ]
}